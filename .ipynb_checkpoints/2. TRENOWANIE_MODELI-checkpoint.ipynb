{
 "cells": [
  {
   "cell_type": "markdown",
   "metadata": {
    "colab_type": "text",
    "id": "lGwInp1_3-sS"
   },
   "source": [
    "# HANDWRITTEN LETTERS CLASSIFICATION\n",
    "## Model creating and training with own russian letters dataset"
   ]
  },
  {
   "cell_type": "code",
   "execution_count": null,
   "metadata": {
    "colab": {
     "base_uri": "https://localhost:8080/",
     "height": 34
    },
    "colab_type": "code",
    "id": "Zh2NM9NMFq5D",
    "outputId": "a1ea3bac-729e-4469-c064-226644eb7833"
   },
   "outputs": [
    {
     "name": "stdout",
     "output_type": "stream",
     "text": [
      "Drive already mounted at /content/gdrive; to attempt to forcibly remount, call drive.mount(\"/content/gdrive\", force_remount=True).\n"
     ]
    }
   ],
   "source": [
    "import keras\n",
    "keras.__version__\n",
    "\n",
    "from google.colab import drive\n",
    "drive.mount('/content/gdrive')\n",
    "\n",
    "# paths to directories with training and validation images\n",
    "train_dir = '/content/gdrive/My Drive/Colab Notebooks/SI PROJEKT/moje literki/train'\n",
    "validation_dir = '/content/gdrive/My Drive/Colab Notebooks/SI PROJEKT/moje literki/validation'"
   ]
  },
  {
   "cell_type": "markdown",
   "metadata": {
    "colab_type": "text",
    "id": "S9hCvBZPcKG4"
   },
   "source": [
    "## MODEL"
   ]
  },
  {
   "cell_type": "code",
   "execution_count": null,
   "metadata": {
    "colab": {
     "base_uri": "https://localhost:8080/",
     "height": 1000
    },
    "colab_type": "code",
    "id": "QbGveI2lKF64",
    "outputId": "5b407ba5-e21d-467e-b40a-41356717187b"
   },
   "outputs": [
    {
     "name": "stdout",
     "output_type": "stream",
     "text": [
      "Model: \"sequential_1\"\n",
      "_________________________________________________________________\n",
      "Layer (type)                 Output Shape              Param #   \n",
      "=================================================================\n",
      "conv2d_1 (Conv2D)            (None, 28, 28, 32)        2432      \n",
      "_________________________________________________________________\n",
      "batch_normalization_1 (Batch (None, 28, 28, 32)        128       \n",
      "_________________________________________________________________\n",
      "activation_1 (Activation)    (None, 28, 28, 32)        0         \n",
      "_________________________________________________________________\n",
      "conv2d_2 (Conv2D)            (None, 25, 25, 32)        16416     \n",
      "_________________________________________________________________\n",
      "batch_normalization_2 (Batch (None, 25, 25, 32)        128       \n",
      "_________________________________________________________________\n",
      "activation_2 (Activation)    (None, 25, 25, 32)        0         \n",
      "_________________________________________________________________\n",
      "max_pooling2d_1 (MaxPooling2 (None, 12, 12, 32)        0         \n",
      "_________________________________________________________________\n",
      "conv2d_3 (Conv2D)            (None, 10, 10, 64)        18496     \n",
      "_________________________________________________________________\n",
      "batch_normalization_3 (Batch (None, 10, 10, 64)        256       \n",
      "_________________________________________________________________\n",
      "activation_3 (Activation)    (None, 10, 10, 64)        0         \n",
      "_________________________________________________________________\n",
      "conv2d_4 (Conv2D)            (None, 8, 8, 64)          36928     \n",
      "_________________________________________________________________\n",
      "batch_normalization_4 (Batch (None, 8, 8, 64)          256       \n",
      "_________________________________________________________________\n",
      "activation_4 (Activation)    (None, 8, 8, 64)          0         \n",
      "_________________________________________________________________\n",
      "max_pooling2d_2 (MaxPooling2 (None, 4, 4, 64)          0         \n",
      "_________________________________________________________________\n",
      "flatten_1 (Flatten)          (None, 1024)              0         \n",
      "_________________________________________________________________\n",
      "dense_1 (Dense)              (None, 512)               524800    \n",
      "_________________________________________________________________\n",
      "batch_normalization_5 (Batch (None, 512)               2048      \n",
      "_________________________________________________________________\n",
      "activation_5 (Activation)    (None, 512)               0         \n",
      "_________________________________________________________________\n",
      "dropout_1 (Dropout)          (None, 512)               0         \n",
      "_________________________________________________________________\n",
      "dense_2 (Dense)              (None, 33)                16929     \n",
      "_________________________________________________________________\n",
      "activation_6 (Activation)    (None, 33)                0         \n",
      "=================================================================\n",
      "Total params: 618,817\n",
      "Trainable params: 617,409\n",
      "Non-trainable params: 1,408\n",
      "_________________________________________________________________\n",
      "None\n",
      "Model: \"sequential_1\"\n",
      "_________________________________________________________________\n",
      "Layer (type)                 Output Shape              Param #   \n",
      "=================================================================\n",
      "conv2d_1 (Conv2D)            (None, 28, 28, 32)        2432      \n",
      "_________________________________________________________________\n",
      "batch_normalization_1 (Batch (None, 28, 28, 32)        128       \n",
      "_________________________________________________________________\n",
      "activation_1 (Activation)    (None, 28, 28, 32)        0         \n",
      "_________________________________________________________________\n",
      "conv2d_2 (Conv2D)            (None, 25, 25, 32)        16416     \n",
      "_________________________________________________________________\n",
      "batch_normalization_2 (Batch (None, 25, 25, 32)        128       \n",
      "_________________________________________________________________\n",
      "activation_2 (Activation)    (None, 25, 25, 32)        0         \n",
      "_________________________________________________________________\n",
      "max_pooling2d_1 (MaxPooling2 (None, 12, 12, 32)        0         \n",
      "_________________________________________________________________\n",
      "conv2d_3 (Conv2D)            (None, 10, 10, 64)        18496     \n",
      "_________________________________________________________________\n",
      "batch_normalization_3 (Batch (None, 10, 10, 64)        256       \n",
      "_________________________________________________________________\n",
      "activation_3 (Activation)    (None, 10, 10, 64)        0         \n",
      "_________________________________________________________________\n",
      "conv2d_4 (Conv2D)            (None, 8, 8, 64)          36928     \n",
      "_________________________________________________________________\n",
      "batch_normalization_4 (Batch (None, 8, 8, 64)          256       \n",
      "_________________________________________________________________\n",
      "activation_4 (Activation)    (None, 8, 8, 64)          0         \n",
      "_________________________________________________________________\n",
      "max_pooling2d_2 (MaxPooling2 (None, 4, 4, 64)          0         \n",
      "_________________________________________________________________\n",
      "flatten_1 (Flatten)          (None, 1024)              0         \n",
      "_________________________________________________________________\n",
      "dense_1 (Dense)              (None, 512)               524800    \n",
      "_________________________________________________________________\n",
      "batch_normalization_5 (Batch (None, 512)               2048      \n",
      "_________________________________________________________________\n",
      "activation_5 (Activation)    (None, 512)               0         \n",
      "_________________________________________________________________\n",
      "dropout_1 (Dropout)          (None, 512)               0         \n",
      "_________________________________________________________________\n",
      "dense_2 (Dense)              (None, 33)                16929     \n",
      "_________________________________________________________________\n",
      "activation_6 (Activation)    (None, 33)                0         \n",
      "=================================================================\n",
      "Total params: 618,817\n",
      "Trainable params: 617,409\n",
      "Non-trainable params: 1,408\n",
      "_________________________________________________________________\n"
     ]
    }
   ],
   "source": [
    "from keras.layers import Dense, Activation, Dropout, Flatten, MaxPooling2D, BatchNormalization, Reshape\n",
    "from keras.layers.convolutional import Conv2D\n",
    "from keras.models import Sequential\n",
    "\n",
    "def define_model(num_classes):\n",
    "    model = Sequential()\n",
    "    \n",
    "    model.add(Conv2D(32, (5, 5), input_shape=(32, 32, 3)))\n",
    "    model.add(BatchNormalization(axis=-1))\n",
    "    model.add(Activation('relu'))\n",
    "    model.add(Conv2D(32, (4, 4)))\n",
    "    model.add(BatchNormalization(axis=-1))\n",
    "    model.add(Activation('relu'))\n",
    "    model.add(MaxPooling2D(pool_size=(2, 2)))\n",
    "\n",
    "    model.add(Conv2D(64, (3, 3)))\n",
    "    model.add(BatchNormalization(axis=-1))\n",
    "    model.add(Activation('sigmoid'))\n",
    "    model.add(Conv2D(64, (3, 3)))\n",
    "    model.add(BatchNormalization(axis=-1))\n",
    "    model.add(Activation('relu'))\n",
    "    model.add(MaxPooling2D(pool_size=(2, 2)))\n",
    "\n",
    "    model.add(Flatten())\n",
    "\n",
    "    # Fully connected layer\n",
    "    model.add(Dense(512))\n",
    "    model.add(BatchNormalization())\n",
    "    model.add(Activation('relu'))\n",
    "    model.add(Dropout(0.2))\n",
    "\n",
    "    model.add(Dense(num_classes))\n",
    "    model.add(Activation('softmax'))\n",
    "    print(model.summary())\n",
    "    return model\n",
    "\n",
    "\n",
    "model = define_model(33) # number of classes\n",
    "model.summary()"
   ]
  },
  {
   "cell_type": "code",
   "execution_count": null,
   "metadata": {
    "colab": {},
    "colab_type": "code",
    "id": "8QRs3Ur44YuN"
   },
   "outputs": [],
   "source": [
    "from keras import optimizers\n",
    "\n",
    "model.compile(loss='categorical_crossentropy', optimizer=optimizers.Adam(0.00001), metrics=['accuracy'])"
   ]
  },
  {
   "cell_type": "markdown",
   "metadata": {
    "colab_type": "text",
    "id": "cisfuuaPcUsD"
   },
   "source": [
    "## LOAD DATASET"
   ]
  },
  {
   "cell_type": "code",
   "execution_count": null,
   "metadata": {
    "colab": {
     "base_uri": "https://localhost:8080/",
     "height": 406
    },
    "colab_type": "code",
    "id": "WQ8mS_l9cbA5",
    "outputId": "c8641da5-fbd4-4636-e661-53cd65080847"
   },
   "outputs": [
    {
     "data": {
      "image/png": "[encoded data removed]",
      "text/plain": [
       "<Figure size 1080x360 with 10 Axes>"
      ]
     },
     "metadata": {
      "needs_background": "light",
      "tags": []
     },
     "output_type": "display_data"
    }
   ],
   "source": [
    "import matplotlib.pyplot as plt\n",
    "import PIL\n",
    "\n",
    "plt.figure(figsize=(15,5))\n",
    "plt.suptitle('Dataset - images examples', fontsize=20, y=1.05)\n",
    "\n",
    "N = 5\n",
    "\n",
    "for i in range(N):\n",
    "    plt.subplot(2,N,i+1)\n",
    "    plt.title('Training image', fontsize=15)\n",
    "    plt.imshow(PIL.Image.open(train_dir+'/'+str(i)+'/'+str(i)+'_'+str(i)+'.png'))\n",
    "    plt.tight_layout(pad=2)\n",
    "\n",
    "for i in range(N):\n",
    "    plt.subplot(2,N,i+1+N)\n",
    "    plt.title('Validation image', fontsize=15)\n",
    "    plt.imshow(PIL.Image.open(validation_dir+'/'+str(i)+'/'+str(i)+'_'+str(301+i)+'.png'))"
   ]
  },
  {
   "cell_type": "code",
   "execution_count": null,
   "metadata": {
    "colab": {
     "base_uri": "https://localhost:8080/",
     "height": 51
    },
    "colab_type": "code",
    "id": "DBtcV-TW4eGQ",
    "outputId": "b9faa6ce-63cd-4dcc-ca5e-cb99e19c236f"
   },
   "outputs": [
    {
     "name": "stdout",
     "output_type": "stream",
     "text": [
      "Found 9933 images belonging to 33 classes.\n",
      "Found 3300 images belonging to 33 classes.\n"
     ]
    }
   ],
   "source": [
    "from keras.preprocessing.image import ImageDataGenerator\n",
    "\n",
    "train_datagen = ImageDataGenerator(rescale=1./255)\n",
    "test_datagen = ImageDataGenerator(rescale=1./255)\n",
    "# RGB rescaled to 0-1 values\n",
    "\n",
    "train_generator = train_datagen.flow_from_directory(\n",
    "        train_dir,\n",
    "        target_size=(32, 32),\n",
    "        batch_size=64,\n",
    "        class_mode='categorical')\n",
    "\n",
    "validation_generator = test_datagen.flow_from_directory(\n",
    "        validation_dir,\n",
    "        target_size=(32, 32),\n",
    "        batch_size=64,\n",
    "        class_mode='categorical')\n",
    "\n",
    "# More than 13000 images loaded"
   ]
  },
  {
   "cell_type": "code",
   "execution_count": null,
   "metadata": {
    "colab": {
     "base_uri": "https://localhost:8080/",
     "height": 51
    },
    "colab_type": "code",
    "id": "VP7VbPWY4j3f",
    "outputId": "af58c86d-ace5-416f-bc37-96b2cea6959e"
   },
   "outputs": [
    {
     "name": "stdout",
     "output_type": "stream",
     "text": [
      "data batch shape: (64, 32, 32, 3)\n",
      "labels batch shape: (64, 33)\n"
     ]
    }
   ],
   "source": [
    "for data_batch, labels_batch in train_generator:\n",
    "    print('data batch shape:', data_batch.shape)\n",
    "    print('labels batch shape:', labels_batch.shape)\n",
    "    break\n",
    "\n",
    "# 33 classes - 33 labels, 64 RGB images of size 32x32 per batch"
   ]
  },
  {
   "cell_type": "code",
   "execution_count": null,
   "metadata": {
    "colab": {
     "base_uri": "https://localhost:8080/",
     "height": 54
    },
    "colab_type": "code",
    "id": "AyyHt00x6xmn",
    "outputId": "67ba1838-b3f0-4483-bcf9-45e7de46a5d6"
   },
   "outputs": [
    {
     "name": "stdout",
     "output_type": "stream",
     "text": [
      "{0: '0', 1: '1', 2: '10', 3: '11', 4: '12', 5: '13', 6: '14', 7: '15', 8: '16', 9: '17', 10: '18', 11: '19', 12: '2', 13: '20', 14: '21', 15: '22', 16: '23', 17: '24', 18: '25', 19: '26', 20: '27', 21: '28', 22: '29', 23: '3', 24: '30', 25: '31', 26: '32', 27: '4', 28: '5', 29: '6', 30: '7', 31: '8', 32: '9'}\n"
     ]
    }
   ],
   "source": [
    "### INDEXES FOR MODEL - for future usage ###\n",
    "labels = (train_generator.class_indices)\n",
    "labels = dict((v,k) for k,v in labels.items())\n",
    "print(labels)"
   ]
  },
  {
   "cell_type": "markdown",
   "metadata": {
    "colab_type": "text",
    "id": "_7NN7C49iQB8"
   },
   "source": [
    "## TRAINING"
   ]
  },
  {
   "cell_type": "code",
   "execution_count": null,
   "metadata": {
    "colab": {
     "base_uri": "https://localhost:8080/",
     "height": 1000
    },
    "colab_type": "code",
    "id": "iBlKoDir4pjo",
    "outputId": "0718665c-52ef-4635-fe11-ae2d81e58580"
   },
   "outputs": [
    {
     "name": "stdout",
     "output_type": "stream",
     "text": [
      "Epoch 1/75\n",
      "100/100 [==============================] - 2696s 27s/step - loss: 3.6534 - accuracy: 0.0680 - val_loss: 3.6826 - val_accuracy: 0.0304\n",
      "Epoch 2/75\n",
      "100/100 [==============================] - 781s 8s/step - loss: 3.1760 - accuracy: 0.1536 - val_loss: 3.6548 - val_accuracy: 0.0333\n",
      "Epoch 3/75\n",
      "100/100 [==============================] - 20s 205ms/step - loss: 2.8396 - accuracy: 0.2411 - val_loss: 3.5525 - val_accuracy: 0.0369\n",
      "Epoch 4/75\n",
      "100/100 [==============================] - 20s 203ms/step - loss: 2.5127 - accuracy: 0.3552 - val_loss: 3.2351 - val_accuracy: 0.1138\n",
      "Epoch 5/75\n",
      "100/100 [==============================] - 21s 205ms/step - loss: 2.3011 - accuracy: 0.4162 - val_loss: 2.4432 - val_accuracy: 0.3952\n",
      "Epoch 6/75\n",
      "100/100 [==============================] - 22s 219ms/step - loss: 2.0988 - accuracy: 0.4839 - val_loss: 2.1595 - val_accuracy: 0.5265\n",
      "Epoch 7/75\n",
      "100/100 [==============================] - 21s 205ms/step - loss: 1.9065 - accuracy: 0.5406 - val_loss: 2.0114 - val_accuracy: 0.5810\n",
      "Epoch 8/75\n",
      "100/100 [==============================] - 21s 213ms/step - loss: 1.8082 - accuracy: 0.5672 - val_loss: 1.5748 - val_accuracy: 0.6018\n",
      "Epoch 9/75\n",
      "100/100 [==============================] - 21s 205ms/step - loss: 1.6685 - accuracy: 0.6154 - val_loss: 1.6432 - val_accuracy: 0.6330\n",
      "Epoch 10/75\n",
      "100/100 [==============================] - 20s 204ms/step - loss: 1.5542 - accuracy: 0.6381 - val_loss: 1.1123 - val_accuracy: 0.6576\n",
      "Epoch 11/75\n",
      "100/100 [==============================] - 21s 206ms/step - loss: 1.4894 - accuracy: 0.6500 - val_loss: 1.4794 - val_accuracy: 0.6784\n",
      "Epoch 12/75\n",
      "100/100 [==============================] - 20s 205ms/step - loss: 1.3764 - accuracy: 0.6914 - val_loss: 1.6484 - val_accuracy: 0.6925\n",
      "Epoch 13/75\n",
      "100/100 [==============================] - 20s 204ms/step - loss: 1.3187 - accuracy: 0.6998 - val_loss: 1.4700 - val_accuracy: 0.7101\n",
      "Epoch 14/75\n",
      "100/100 [==============================] - 20s 202ms/step - loss: 1.2659 - accuracy: 0.7125 - val_loss: 1.2770 - val_accuracy: 0.7258\n",
      "Epoch 15/75\n",
      "100/100 [==============================] - 21s 214ms/step - loss: 1.1799 - accuracy: 0.7339 - val_loss: 1.2081 - val_accuracy: 0.7394\n",
      "Epoch 16/75\n",
      "100/100 [==============================] - 21s 210ms/step - loss: 1.1470 - accuracy: 0.7415 - val_loss: 1.3640 - val_accuracy: 0.7546\n",
      "Epoch 17/75\n",
      "100/100 [==============================] - 20s 203ms/step - loss: 1.0833 - accuracy: 0.7592 - val_loss: 0.9115 - val_accuracy: 0.7606\n",
      "Epoch 18/75\n",
      "100/100 [==============================] - 21s 205ms/step - loss: 1.0297 - accuracy: 0.7708 - val_loss: 1.2464 - val_accuracy: 0.7691\n",
      "Epoch 19/75\n",
      "100/100 [==============================] - 21s 206ms/step - loss: 1.0115 - accuracy: 0.7736 - val_loss: 0.8255 - val_accuracy: 0.7840\n",
      "Epoch 20/75\n",
      "100/100 [==============================] - 21s 209ms/step - loss: 0.9525 - accuracy: 0.7885 - val_loss: 0.8708 - val_accuracy: 0.7918\n",
      "Epoch 21/75\n",
      "100/100 [==============================] - 22s 221ms/step - loss: 0.9238 - accuracy: 0.7986 - val_loss: 0.9458 - val_accuracy: 0.7998\n",
      "Epoch 22/75\n",
      "100/100 [==============================] - 21s 207ms/step - loss: 0.8789 - accuracy: 0.8083 - val_loss: 0.7552 - val_accuracy: 0.8038\n",
      "Epoch 23/75\n",
      "100/100 [==============================] - 21s 211ms/step - loss: 0.8555 - accuracy: 0.8112 - val_loss: 0.8423 - val_accuracy: 0.8116\n",
      "Epoch 24/75\n",
      "100/100 [==============================] - 20s 205ms/step - loss: 0.8217 - accuracy: 0.8216 - val_loss: 0.8815 - val_accuracy: 0.8175\n",
      "Epoch 25/75\n",
      "100/100 [==============================] - 21s 208ms/step - loss: 0.8087 - accuracy: 0.8198 - val_loss: 0.8383 - val_accuracy: 0.8211\n",
      "Epoch 26/75\n",
      "100/100 [==============================] - 20s 204ms/step - loss: 0.7744 - accuracy: 0.8312 - val_loss: 0.5755 - val_accuracy: 0.8288\n",
      "Epoch 27/75\n",
      "100/100 [==============================] - 21s 207ms/step - loss: 0.7439 - accuracy: 0.8411 - val_loss: 0.8024 - val_accuracy: 0.8336\n",
      "Epoch 28/75\n",
      "100/100 [==============================] - 20s 203ms/step - loss: 0.7185 - accuracy: 0.8474 - val_loss: 0.6516 - val_accuracy: 0.8376\n",
      "Epoch 29/75\n",
      "100/100 [==============================] - 21s 211ms/step - loss: 0.6767 - accuracy: 0.8558 - val_loss: 0.7890 - val_accuracy: 0.8422\n",
      "Epoch 30/75\n",
      "100/100 [==============================] - 20s 204ms/step - loss: 0.6816 - accuracy: 0.8589 - val_loss: 0.6270 - val_accuracy: 0.8485\n",
      "Epoch 31/75\n",
      "100/100 [==============================] - 21s 208ms/step - loss: 0.6453 - accuracy: 0.8631 - val_loss: 0.8678 - val_accuracy: 0.8477\n",
      "Epoch 32/75\n",
      "100/100 [==============================] - 21s 206ms/step - loss: 0.6319 - accuracy: 0.8698 - val_loss: 0.5561 - val_accuracy: 0.8580\n",
      "Epoch 33/75\n",
      "100/100 [==============================] - 20s 204ms/step - loss: 0.6078 - accuracy: 0.8776 - val_loss: 0.6396 - val_accuracy: 0.8548\n",
      "Epoch 34/75\n",
      "100/100 [==============================] - 21s 206ms/step - loss: 0.5932 - accuracy: 0.8771 - val_loss: 0.6270 - val_accuracy: 0.8660\n",
      "Epoch 35/75\n",
      "100/100 [==============================] - 20s 204ms/step - loss: 0.5723 - accuracy: 0.8845 - val_loss: 0.6259 - val_accuracy: 0.8618\n",
      "Epoch 36/75\n",
      "100/100 [==============================] - 23s 229ms/step - loss: 0.5586 - accuracy: 0.8880 - val_loss: 0.7126 - val_accuracy: 0.8711\n",
      "Epoch 37/75\n",
      "100/100 [==============================] - 22s 217ms/step - loss: 0.5416 - accuracy: 0.8921 - val_loss: 0.6000 - val_accuracy: 0.8723\n",
      "Epoch 38/75\n",
      "100/100 [==============================] - 21s 207ms/step - loss: 0.5312 - accuracy: 0.8916 - val_loss: 0.4321 - val_accuracy: 0.8802\n",
      "Epoch 39/75\n",
      "100/100 [==============================] - 20s 205ms/step - loss: 0.5136 - accuracy: 0.8976 - val_loss: 0.4887 - val_accuracy: 0.8810\n",
      "Epoch 40/75\n",
      "100/100 [==============================] - 20s 205ms/step - loss: 0.4937 - accuracy: 0.9071 - val_loss: 0.5785 - val_accuracy: 0.8836\n",
      "Epoch 41/75\n",
      "100/100 [==============================] - 22s 218ms/step - loss: 0.4838 - accuracy: 0.9053 - val_loss: 0.4611 - val_accuracy: 0.8890\n",
      "Epoch 42/75\n",
      "100/100 [==============================] - 21s 205ms/step - loss: 0.4783 - accuracy: 0.9063 - val_loss: 0.6349 - val_accuracy: 0.8838\n",
      "Epoch 43/75\n",
      "100/100 [==============================] - 20s 205ms/step - loss: 0.4374 - accuracy: 0.9154 - val_loss: 0.3949 - val_accuracy: 0.8914\n",
      "Epoch 44/75\n",
      "100/100 [==============================] - 20s 204ms/step - loss: 0.4531 - accuracy: 0.9145 - val_loss: 0.5885 - val_accuracy: 0.8971\n",
      "Epoch 45/75\n",
      "100/100 [==============================] - 21s 208ms/step - loss: 0.4326 - accuracy: 0.9189 - val_loss: 0.4942 - val_accuracy: 0.8977\n",
      "Epoch 46/75\n",
      "100/100 [==============================] - 20s 204ms/step - loss: 0.4166 - accuracy: 0.9260 - val_loss: 0.2955 - val_accuracy: 0.9005\n",
      "Epoch 47/75\n",
      "100/100 [==============================] - 20s 204ms/step - loss: 0.4151 - accuracy: 0.9231 - val_loss: 0.5306 - val_accuracy: 0.9009\n",
      "Epoch 48/75\n",
      "100/100 [==============================] - 20s 204ms/step - loss: 0.3895 - accuracy: 0.9288 - val_loss: 0.4660 - val_accuracy: 0.9075\n",
      "Epoch 49/75\n",
      "100/100 [==============================] - 21s 209ms/step - loss: 0.3902 - accuracy: 0.9284 - val_loss: 0.4900 - val_accuracy: 0.9034\n",
      "Epoch 50/75\n",
      "100/100 [==============================] - 21s 208ms/step - loss: 0.3808 - accuracy: 0.9302 - val_loss: 0.2291 - val_accuracy: 0.9084\n",
      "Epoch 51/75\n",
      "100/100 [==============================] - 22s 218ms/step - loss: 0.3688 - accuracy: 0.9379 - val_loss: 0.4762 - val_accuracy: 0.9068\n",
      "Epoch 52/75\n",
      "100/100 [==============================] - 21s 213ms/step - loss: 0.3614 - accuracy: 0.9305 - val_loss: 0.5726 - val_accuracy: 0.9141\n",
      "Epoch 53/75\n",
      "100/100 [==============================] - 20s 203ms/step - loss: 0.3560 - accuracy: 0.9378 - val_loss: 0.4662 - val_accuracy: 0.9113\n",
      "Epoch 54/75\n",
      "100/100 [==============================] - 22s 218ms/step - loss: 0.3401 - accuracy: 0.9430 - val_loss: 0.3939 - val_accuracy: 0.9165\n",
      "Epoch 55/75\n",
      "100/100 [==============================] - 20s 204ms/step - loss: 0.3258 - accuracy: 0.9433 - val_loss: 0.4825 - val_accuracy: 0.9177\n",
      "Epoch 56/75\n",
      "100/100 [==============================] - 20s 205ms/step - loss: 0.3336 - accuracy: 0.9401 - val_loss: 0.5451 - val_accuracy: 0.9149\n",
      "Epoch 57/75\n",
      "100/100 [==============================] - 20s 204ms/step - loss: 0.3109 - accuracy: 0.9457 - val_loss: 0.3901 - val_accuracy: 0.9195\n",
      "Epoch 58/75\n",
      "100/100 [==============================] - 21s 209ms/step - loss: 0.3101 - accuracy: 0.9478 - val_loss: 0.3239 - val_accuracy: 0.9226\n",
      "Epoch 59/75\n",
      "100/100 [==============================] - 21s 210ms/step - loss: 0.3123 - accuracy: 0.9449 - val_loss: 0.3032 - val_accuracy: 0.9221\n",
      "Epoch 60/75\n",
      "100/100 [==============================] - 21s 209ms/step - loss: 0.2932 - accuracy: 0.9505 - val_loss: 0.3632 - val_accuracy: 0.9251\n",
      "Epoch 61/75\n",
      "100/100 [==============================] - 21s 205ms/step - loss: 0.2821 - accuracy: 0.9499 - val_loss: 0.3583 - val_accuracy: 0.9262\n",
      "Epoch 62/75\n",
      "100/100 [==============================] - 21s 206ms/step - loss: 0.2794 - accuracy: 0.9557 - val_loss: 0.3488 - val_accuracy: 0.9276\n",
      "Epoch 63/75\n",
      "100/100 [==============================] - 21s 206ms/step - loss: 0.2736 - accuracy: 0.9536 - val_loss: 0.2091 - val_accuracy: 0.9294\n",
      "Epoch 64/75\n",
      "100/100 [==============================] - 21s 206ms/step - loss: 0.2694 - accuracy: 0.9583 - val_loss: 0.2118 - val_accuracy: 0.9311\n",
      "Epoch 65/75\n",
      "100/100 [==============================] - 20s 204ms/step - loss: 0.2640 - accuracy: 0.9565 - val_loss: 0.3814 - val_accuracy: 0.9322\n",
      "Epoch 66/75\n",
      "100/100 [==============================] - 22s 223ms/step - loss: 0.2435 - accuracy: 0.9619 - val_loss: 0.3638 - val_accuracy: 0.9333\n",
      "Epoch 67/75\n",
      "100/100 [==============================] - 21s 214ms/step - loss: 0.2513 - accuracy: 0.9598 - val_loss: 0.3667 - val_accuracy: 0.9347\n",
      "Epoch 68/75\n",
      "100/100 [==============================] - 21s 210ms/step - loss: 0.2377 - accuracy: 0.9627 - val_loss: 0.3811 - val_accuracy: 0.9316\n",
      "Epoch 69/75\n",
      "100/100 [==============================] - 21s 207ms/step - loss: 0.2405 - accuracy: 0.9586 - val_loss: 0.2975 - val_accuracy: 0.9390\n",
      "Epoch 70/75\n",
      "100/100 [==============================] - 21s 209ms/step - loss: 0.2355 - accuracy: 0.9598 - val_loss: 0.2086 - val_accuracy: 0.9395\n",
      "Epoch 71/75\n",
      "100/100 [==============================] - 21s 207ms/step - loss: 0.2311 - accuracy: 0.9641 - val_loss: 0.3098 - val_accuracy: 0.9403\n",
      "Epoch 72/75\n",
      "100/100 [==============================] - 21s 206ms/step - loss: 0.2171 - accuracy: 0.9657 - val_loss: 0.2836 - val_accuracy: 0.9401\n",
      "Epoch 73/75\n",
      "100/100 [==============================] - 21s 206ms/step - loss: 0.2167 - accuracy: 0.9663 - val_loss: 0.3184 - val_accuracy: 0.9398\n",
      "Epoch 74/75\n",
      "100/100 [==============================] - 21s 211ms/step - loss: 0.2152 - accuracy: 0.9690 - val_loss: 0.3047 - val_accuracy: 0.9453\n",
      "Epoch 75/75\n",
      "100/100 [==============================] - 21s 205ms/step - loss: 0.2078 - accuracy: 0.9688 - val_loss: 0.1434 - val_accuracy: 0.9420\n"
     ]
    }
   ],
   "source": [
    "# training: 75 epochs, 100 steps/epoch\n",
    "history = model.fit_generator(\n",
    "      train_generator,\n",
    "      steps_per_epoch=100,\n",
    "      epochs=75,\n",
    "      validation_data=validation_generator,\n",
    "      validation_steps=100)\n",
    "\n",
    "from keras.models import model_from_json\n",
    "# save model and weights after training\n",
    "model_json = model.to_json()\n",
    "with open(\"/content/gdrive/My Drive/Colab Notebooks/SI PROJEKT/model_nowy2.json\", \"w\") as json_file:\n",
    "    json_file.write(model_json)\n",
    "model.save_weights(\"/content/gdrive/My Drive/Colab Notebooks/SI PROJEKT/model_nowy2.h5\")"
   ]
  },
  {
   "cell_type": "markdown",
   "metadata": {
    "colab_type": "text",
    "id": "WBfy_lCmiWU4"
   },
   "source": [
    "## RESULTS"
   ]
  },
  {
   "cell_type": "code",
   "execution_count": null,
   "metadata": {
    "colab": {
     "base_uri": "https://localhost:8080/",
     "height": 381
    },
    "colab_type": "code",
    "id": "iK1tAvhs4wky",
    "outputId": "c6ffea5c-09d7-476b-8c38-e220c197f7e1"
   },
   "outputs": [
    {
     "data": {
      "image/png": "[encoded data removed]",
      "text/plain": [
       "<Figure size 1080x324 with 2 Axes>"
      ]
     },
     "metadata": {
      "needs_background": "light",
      "tags": []
     },
     "output_type": "display_data"
    }
   ],
   "source": [
    "import matplotlib.pyplot as plt\n",
    "\n",
    "acc = history.history['accuracy']\n",
    "val_acc = history.history['val_accuracy']\n",
    "loss = history.history['loss']\n",
    "val_loss = history.history['val_loss']\n",
    "\n",
    "epochs = range(len(acc))\n",
    "\n",
    "plt.figure(figsize=(15,4.5))\n",
    "plt.tight_layout(pad=3.0)\n",
    "\n",
    "plt.suptitle('Results of training and validation', fontsize=20, y=1.1)\n",
    "\n",
    "plt.subplot(1,2,1)\n",
    "plt.plot(epochs, acc, 'bo', label='Training acc')\n",
    "plt.plot(epochs, val_acc, 'bo', label='Validation acc', color='green')\n",
    "plt.title('Training and validation accuracy', fontsize=15, y=1.05)\n",
    "plt.xlabel('Epochs', fontsize=12)\n",
    "plt.ylabel('Accuracy', fontsize=12)\n",
    "plt.grid()\n",
    "plt.legend()\n",
    "\n",
    "plt.subplot(1,2,2)\n",
    "\n",
    "plt.plot(epochs, loss, 'bo', label='Training loss')\n",
    "plt.plot(epochs, val_loss, 'bo', label='Validation loss', color='green')\n",
    "plt.title('Training and validation loss', fontsize=15, y=1.05)\n",
    "plt.xlabel('Epochs', fontsize=12)\n",
    "plt.ylabel('Loss', fontsize=12)\n",
    "plt.grid()\n",
    "plt.legend()\n",
    "\n",
    "plt.show()"
   ]
  },
  {
   "cell_type": "markdown",
   "metadata": {
    "colab_type": "text",
    "id": "t4GW_-jrjUgZ"
   },
   "source": [
    "##### Final training accuracy = almost 97%\n",
    "##### Final validation accuracy = more than 94%"
   ]
  },
  {
   "cell_type": "markdown",
   "metadata": {
    "colab_type": "text",
    "id": "3EXROZ_qUZDX"
   },
   "source": [
    "# HANDWRITTEN DIGITS CLASSIFICATION\n",
    "## Model creating and training with MINST database"
   ]
  },
  {
   "cell_type": "code",
   "execution_count": null,
   "metadata": {
    "colab": {
     "base_uri": "https://localhost:8080/",
     "height": 122
    },
    "colab_type": "code",
    "id": "UMzhoru9VKq4",
    "outputId": "59b37964-0959-49f1-b79b-28c34c791070"
   },
   "outputs": [
    {
     "name": "stdout",
     "output_type": "stream",
     "text": [
      "Go to this URL in a browser: https://accounts.google.com/o/oauth2/auth?client_id=947318989803-6bn6qk8qdgf4n4g3pfee6491hc0brc4i.apps.googleusercontent.com&redirect_uri=urn%3aietf%3awg%3aoauth%3a2.0%3aoob&response_type=code&scope=email%20https%3a%2f%2fwww.googleapis.com%2fauth%2fdocs.test%20https%3a%2f%2fwww.googleapis.com%2fauth%2fdrive%20https%3a%2f%2fwww.googleapis.com%2fauth%2fdrive.photos.readonly%20https%3a%2f%2fwww.googleapis.com%2fauth%2fpeopleapi.readonly\n",
      "\n",
      "Enter your authorization code:\n",
      "··········\n",
      "Mounted at /content/gdrive\n"
     ]
    }
   ],
   "source": [
    "import keras\n",
    "from keras.datasets import mnist\n",
    "from keras.models import Sequential\n",
    "from keras.layers import Dense, Dropout, Flatten\n",
    "from keras.layers import Conv2D, MaxPooling2D\n",
    "from keras import backend as K\n",
    "import numpy as np\n",
    "\n",
    "from google.colab import drive\n",
    "drive.mount('/content/gdrive')"
   ]
  },
  {
   "cell_type": "markdown",
   "metadata": {
    "colab_type": "text",
    "id": "SvN_-zbqWFOp"
   },
   "source": [
    "## LOAD DATA"
   ]
  },
  {
   "cell_type": "code",
   "execution_count": null,
   "metadata": {
    "colab": {},
    "colab_type": "code",
    "id": "QYKMSzwqVTLu"
   },
   "outputs": [],
   "source": [
    "batch_size = 128\n",
    "num_classes = 10\n",
    "epochs = 5\n",
    "img_rows, img_cols = 28, 28\n",
    "\n",
    "(x_train, y_train), (x_test, y_test) = mnist.load_data()"
   ]
  },
  {
   "cell_type": "markdown",
   "metadata": {
    "colab_type": "text",
    "id": "3ORK4VEQWUBh"
   },
   "source": [
    "## PREPROCESSING"
   ]
  },
  {
   "cell_type": "code",
   "execution_count": null,
   "metadata": {
    "colab": {
     "base_uri": "https://localhost:8080/",
     "height": 68
    },
    "colab_type": "code",
    "id": "KHAag-ZVVUaS",
    "outputId": "44d93f3d-0f3b-4216-8443-f7a31b110763"
   },
   "outputs": [
    {
     "name": "stdout",
     "output_type": "stream",
     "text": [
      "x_train shape: (120000, 28, 28, 1)\n",
      "120000 train samples\n",
      "20000 test samples\n"
     ]
    }
   ],
   "source": [
    "x_train = np.concatenate((x_train,255 - x_train), axis=0)\n",
    "y_train = np.concatenate((y_train, y_train), axis=0)\n",
    "x_test = np.concatenate((x_test,255 - x_test), axis=0)\n",
    "y_test = np.concatenate((y_test,y_test), axis=0)\n",
    "\n",
    "if K.image_data_format() == 'channels_first':\n",
    "    x_train = x_train.reshape(x_train.shape[0], 1, img_rows, img_cols)\n",
    "    x_test = x_test.reshape(x_test.shape[0], 1, img_rows, img_cols)\n",
    "    input_shape = (1, img_rows, img_cols)\n",
    "else:\n",
    "    x_train = x_train.reshape(x_train.shape[0], img_rows, img_cols, 1)\n",
    "    x_test = x_test.reshape(x_test.shape[0], img_rows, img_cols, 1)\n",
    "    input_shape = (img_rows, img_cols, 1)\n",
    "\n",
    "x_train = x_train.astype('float32')\n",
    "x_test = x_test.astype('float32')\n",
    "x_train /= 255\n",
    "x_test /= 255\n",
    "print('x_train shape:', x_train.shape)\n",
    "print(x_train.shape[0], 'train samples')\n",
    "print(x_test.shape[0], 'test samples')\n",
    "\n",
    "y_train = keras.utils.to_categorical(y_train, num_classes)\n",
    "y_test = keras.utils.to_categorical(y_test, num_classes)"
   ]
  },
  {
   "cell_type": "markdown",
   "metadata": {
    "colab_type": "text",
    "id": "Ep93Wkb5WoCP"
   },
   "source": [
    "## MODEL"
   ]
  },
  {
   "cell_type": "code",
   "execution_count": null,
   "metadata": {
    "colab": {
     "base_uri": "https://localhost:8080/",
     "height": 425
    },
    "colab_type": "code",
    "id": "OEwNmwpyVpgP",
    "outputId": "05ee0a9f-340e-4a54-9d66-a94821b0f70e"
   },
   "outputs": [
    {
     "name": "stdout",
     "output_type": "stream",
     "text": [
      "Model: \"sequential_3\"\n",
      "_________________________________________________________________\n",
      "Layer (type)                 Output Shape              Param #   \n",
      "=================================================================\n",
      "conv2d_5 (Conv2D)            (None, 26, 26, 32)        320       \n",
      "_________________________________________________________________\n",
      "conv2d_6 (Conv2D)            (None, 24, 24, 64)        18496     \n",
      "_________________________________________________________________\n",
      "max_pooling2d_3 (MaxPooling2 (None, 12, 12, 64)        0         \n",
      "_________________________________________________________________\n",
      "dropout_5 (Dropout)          (None, 12, 12, 64)        0         \n",
      "_________________________________________________________________\n",
      "flatten_3 (Flatten)          (None, 9216)              0         \n",
      "_________________________________________________________________\n",
      "dense_5 (Dense)              (None, 128)               1179776   \n",
      "_________________________________________________________________\n",
      "dropout_6 (Dropout)          (None, 128)               0         \n",
      "_________________________________________________________________\n",
      "dense_6 (Dense)              (None, 10)                1290      \n",
      "=================================================================\n",
      "Total params: 1,199,882\n",
      "Trainable params: 1,199,882\n",
      "Non-trainable params: 0\n",
      "_________________________________________________________________\n"
     ]
    }
   ],
   "source": [
    "model = Sequential()\n",
    "\n",
    "model.add(Conv2D(32, kernel_size=(3, 3), activation='relu', input_shape=input_shape))\n",
    "model.add(Conv2D(64, (3, 3), activation='relu'))\n",
    "model.add(MaxPooling2D(pool_size=(2, 2)))\n",
    "model.add(Dropout(0.25))\n",
    "model.add(Flatten())\n",
    "model.add(Dense(128, activation='relu'))\n",
    "model.add(Dropout(0.5))\n",
    "model.add(Dense(num_classes, activation='softmax'))\n",
    "\n",
    "model.compile(loss=keras.losses.categorical_crossentropy,\n",
    "              optimizer=keras.optimizers.Adadelta(),\n",
    "              metrics=['accuracy'])\n",
    "\n",
    "model.summary()"
   ]
  },
  {
   "cell_type": "markdown",
   "metadata": {
    "colab_type": "text",
    "id": "GmhMWbzfWyx9"
   },
   "source": [
    "## TRAINING"
   ]
  },
  {
   "cell_type": "code",
   "execution_count": null,
   "metadata": {
    "colab": {
     "base_uri": "https://localhost:8080/",
     "height": 224
    },
    "colab_type": "code",
    "id": "5u0YhWAmUrK4",
    "outputId": "f3b3d43a-2592-4ae7-89a6-93b92dfa8418"
   },
   "outputs": [
    {
     "name": "stdout",
     "output_type": "stream",
     "text": [
      "Train on 120000 samples, validate on 20000 samples\n",
      "Epoch 1/5\n",
      "120000/120000 [==============================] - 7s 58us/step - loss: 0.2212 - accuracy: 0.9310 - val_loss: 0.0570 - val_accuracy: 0.9803\n",
      "Epoch 2/5\n",
      "120000/120000 [==============================] - 7s 56us/step - loss: 0.0795 - accuracy: 0.9755 - val_loss: 0.0349 - val_accuracy: 0.9879\n",
      "Epoch 3/5\n",
      "120000/120000 [==============================] - 7s 57us/step - loss: 0.0622 - accuracy: 0.9808 - val_loss: 0.0336 - val_accuracy: 0.9889\n",
      "Epoch 4/5\n",
      "120000/120000 [==============================] - 7s 57us/step - loss: 0.0508 - accuracy: 0.9846 - val_loss: 0.0322 - val_accuracy: 0.9883\n",
      "Epoch 5/5\n",
      "120000/120000 [==============================] - 7s 57us/step - loss: 0.0443 - accuracy: 0.9864 - val_loss: 0.0299 - val_accuracy: 0.9898\n"
     ]
    }
   ],
   "source": [
    "model.fit(x_train, y_train, batch_size=batch_size, epochs=epochs, verbose=1, validation_data=(x_test, y_test))\n",
    "score = model.evaluate(x_test, y_test, verbose=0)\n",
    "\n",
    "from keras.models import model_from_json\n",
    "\n",
    "model_json = model.to_json()\n",
    "with open(\"/content/gdrive/My Drive/Colab Notebooks/SI PROJEKT/model_digits.json\", \"w\") as json_file:\n",
    "    json_file.write(model_json)\n",
    "model.save_weights(\"/content/gdrive/My Drive/Colab Notebooks/SI PROJEKT/model_digits.h5\")"
   ]
  },
  {
   "cell_type": "markdown",
   "metadata": {
    "colab_type": "text",
    "id": "wy0hLefeXCJe"
   },
   "source": [
    "## RESULTS"
   ]
  },
  {
   "cell_type": "code",
   "execution_count": null,
   "metadata": {
    "colab": {
     "base_uri": "https://localhost:8080/",
     "height": 51
    },
    "colab_type": "code",
    "id": "XoMT1pvFZE_n",
    "outputId": "b5cad734-1798-4e72-bd92-044ba2f9090f"
   },
   "outputs": [
    {
     "name": "stdout",
     "output_type": "stream",
     "text": [
      "Test loss: 0.0298548112209136\n",
      "Test accuracy: 0.989799976348877\n"
     ]
    }
   ],
   "source": [
    "score = model.evaluate(x_test, y_test, verbose=0)\n",
    "print('Test loss:', score[0])\n",
    "print('Test accuracy:', score[1])"
   ]
  },
  {
   "cell_type": "markdown",
   "metadata": {
    "colab_type": "text",
    "id": "BctsX94uk6KW"
   },
   "source": [
    "## SOURCES\n",
    "\n",
    "1.   example of image classification: https://keras.io/examples/vision/image_classification_from_scratch/\n",
    "2.   model based on: https://github.com/srijan14/keras-handwritten-character-recognition/blob/master/src/define_model.py\n",
    "\n",
    "\n",
    "3.   handwritten digits recognition from: https://github.com/bilal-arikan/Keras-Number-Recognition/blob/master/CreateAndTrainModel.py\n",
    "\n"
   ]
  },
  {
   "cell_type": "markdown",
   "metadata": {
    "colab_type": "text",
    "id": "2UyMiekNkAOH"
   },
   "source": [
    "A. Kasperuk, 2020"
   ]
  }
 ],
 "metadata": {
  "accelerator": "GPU",
  "colab": {
   "collapsed_sections": [],
   "name": "TRENOWANIE MODELI.ipynb",
   "provenance": []
  },
  "kernelspec": {
   "display_name": "Python 3",
   "language": "python",
   "name": "python3"
  },
  "language_info": {
   "codemirror_mode": {
    "name": "ipython",
    "version": 3
   },
   "file_extension": ".py",
   "mimetype": "text/x-python",
   "name": "python",
   "nbconvert_exporter": "python",
   "pygments_lexer": "ipython3",
   "version": "3.7.7"
  }
 },
 "nbformat": 4,
 "nbformat_minor": 4
}
