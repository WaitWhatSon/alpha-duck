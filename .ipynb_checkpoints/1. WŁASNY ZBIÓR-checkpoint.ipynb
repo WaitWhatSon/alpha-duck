{
 "cells": [
  {
   "cell_type": "markdown",
   "metadata": {},
   "source": [
    "### CREATE DATASET"
   ]
  },
  {
   "cell_type": "code",
   "execution_count": 1,
   "metadata": {},
   "outputs": [],
   "source": [
    "from tkinter import *\n",
    "import numpy as np \n",
    "import matplotlib.pyplot as plt\n",
    "from PIL import Image, ImageDraw\n",
    "import os\n",
    "\n",
    "class Drawing():\n",
    "    \n",
    "    def paint(self, event):\n",
    "        if self.old_x and self.old_y:\n",
    "            self.canvas.create_line(self.old_x, self.old_y, event.x, event.y, width=10, fill='black',\n",
    "                                    capstyle=ROUND, smooth=TRUE, splinesteps=36)\n",
    "            self.cv_pil.line([(self.old_x, self.old_y), (event.x, event.y)], width=10, fill='black')\n",
    "        self.old_x = event.x\n",
    "        self.old_y = event.y\n",
    "    \n",
    "    def reset(self, event):\n",
    "        self.old_x, self.old_y = None, None\n",
    "        \n",
    "    def clean(self):\n",
    "        self.canvas.delete(\"all\")\n",
    "        self.createGhostCanvas()\n",
    "        \n",
    "    def submit(self):\n",
    "        #save full format as png\n",
    "        self.last_submitted_drawing = self.img_pil\n",
    "        img = self.last_submitted_drawing.resize((32, 32))\n",
    "        img.save('images/moje_literki/' + str(self.dir) + '/' + str(self.dir) + '_'+ str(self.i) + '.png', 'png')\n",
    "        self.i = self.i + 1\n",
    "        self.clean()\n",
    "        print( str(self.i) + '   \\r' )\n",
    "                \n",
    "    def next(self):\n",
    "        print('next')\n",
    "        self.dir = self.dir + 1\n",
    "        self.text.config(text=\"class: \"+str(self.dir))\n",
    "        self.i = 0\n",
    "        try:\n",
    "            os.mkdir(\"images/moje_literki/\"+str(self.dir))\n",
    "        except OSError:\n",
    "            print (\"Creation of the directory failed\")\n",
    "        else:\n",
    "            print (\"Successfully created the directory\")\n",
    "        \n",
    "    def createButtons(self):\n",
    "        #back\n",
    "        self.next_button = Button(self.root, text='next', command=self.next)\n",
    "        self.next_button.grid(row=2, column=0)\n",
    "        #clean\n",
    "        self.clean_button = Button(self.root, text='clean', command=self.clean)\n",
    "        self.clean_button.grid(row=2, column=1)\n",
    "        #submit\n",
    "        self.clean_submit = Button(self.root, text='submit', command=self.submit)\n",
    "        self.clean_submit.grid(row=2, column=2)\n",
    "        self.text = Label(self.root, font=(\"Comic Sans MS\", 14),\n",
    "                           fg='black')\n",
    "        self.text.grid(row=1, columnspan=3)\n",
    "\n",
    "    def createGhostCanvas(self):\n",
    "        self.img_pil = Image.new(\"RGB\", (320, 320), (256,256,256))\n",
    "        self.cv_pil = ImageDraw.Draw(self.img_pil)\n",
    "        \n",
    "    def createCanvas(self):\n",
    "        #to display\n",
    "        self.canvas = Canvas(self.root, width=320, height=320)\n",
    "        self.canvas.grid(row=0, columnspan=3)\n",
    "        #to save\n",
    "        self.createGhostCanvas()\n",
    "        #canvas actions\n",
    "        self.canvas.bind('<B1-Motion>', self.paint)\n",
    "        self.canvas.bind('<ButtonRelease-1>', self.reset)\n",
    "        \n",
    "    def setup(self):\n",
    "        self.root = Tk()\n",
    "        self.root.title('my_set')\n",
    "        self.root.iconbitmap('images\\duck.ico')\n",
    "        self.old_x, self.old_y = None, None\n",
    "        self.createButtons()\n",
    "        self.createCanvas()\n",
    "        self.i = 0\n",
    "        self.dir = 0\n",
    "        self.text.config(text=\"class: \"+str(self.dir))\n",
    "        try:\n",
    "            os.mkdir(\"images/moje_literki\")\n",
    "        except OSError:\n",
    "            print (\"Creation of the directory failed\")\n",
    "        else:\n",
    "            print (\"Successfully created the directory\")\n",
    "        \n",
    "        try:\n",
    "            os.mkdir(\"images/moje_literki/\"+str(self.dir))\n",
    "        except OSError:\n",
    "            print (\"Creation of the directory failed\")\n",
    "        else:\n",
    "            print (\"Successfully created the directory\")\n",
    "        \n",
    "    def __init__(self, master=None):\n",
    "        \n",
    "        self.setup()\n",
    "        self.root.mainloop()\n"
   ]
  },
  {
   "cell_type": "code",
   "execution_count": 4,
   "metadata": {},
   "outputs": [
    {
     "name": "stdout",
     "output_type": "stream",
     "text": [
      "Creation of the directory failed\n",
      "Creation of the directory failed\n",
      "1   \n",
      "next\n",
      "Creation of the directory failed\n"
     ]
    }
   ],
   "source": [
    "drawing_window = Drawing()"
   ]
  },
  {
   "cell_type": "code",
   "execution_count": null,
   "metadata": {},
   "outputs": [],
   "source": []
  }
 ],
 "metadata": {
  "kernelspec": {
   "display_name": "Python 3",
   "language": "python",
   "name": "python3"
  },
  "language_info": {
   "codemirror_mode": {
    "name": "ipython",
    "version": 3
   },
   "file_extension": ".py",
   "mimetype": "text/x-python",
   "name": "python",
   "nbconvert_exporter": "python",
   "pygments_lexer": "ipython3",
   "version": "3.7.7"
  }
 },
 "nbformat": 4,
 "nbformat_minor": 4
}
